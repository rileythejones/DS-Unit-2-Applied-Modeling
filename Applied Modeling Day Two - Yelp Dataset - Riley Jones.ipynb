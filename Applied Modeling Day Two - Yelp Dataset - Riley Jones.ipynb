{
 "cells": [
  {
   "cell_type": "code",
   "execution_count": null,
   "metadata": {},
   "outputs": [],
   "source": []
  },
  {
   "cell_type": "markdown",
   "metadata": {},
   "source": [
    "Lambda School Data Science\n",
    "\n",
    "*Unit 2, Sprint 3, Module 2*\n",
    "\n",
    "---\n",
    "\n",
    "\n",
    "# Permutation & Boosting\n",
    "\n",
    "You will use your portfolio project dataset for all assignments this sprint.\n",
    "\n",
    "## Assignment\n",
    "\n",
    "Complete these tasks for your project, and document your work.\n",
    "\n",
    "- [ ] If you haven't completed assignment #1, please do so first.\n",
    "- [ ] Continue to clean and explore your data. Make exploratory visualizations.\n",
    "- [ ] Fit a model. Does it beat your baseline? \n",
    "- [ ] Try xgboost.\n",
    "- [ ] Get your model's permutation importances.\n",
    "\n",
    "You should try to complete an initial model today, because the rest of the week, we're making model interpretation visualizations.\n",
    "\n",
    "But, if you aren't ready to try xgboost and permutation importances with your dataset today, that's okay. You can practice with another dataset instead. You may choose any dataset you've worked with previously.\n",
    "\n",
    "The data subdirectory includes the Titanic dataset for classification and the NYC apartments dataset for regression. You may want to choose one of these datasets, because example solutions will be available for each.\n",
    "\n",
    "\n",
    "## Reading\n",
    "\n",
    "Top recommendations in _**bold italic:**_\n",
    "\n",
    "#### Permutation Importances\n",
    "- _**[Kaggle / Dan Becker: Machine Learning Explainability](https://www.kaggle.com/dansbecker/permutation-importance)**_\n",
    "- [Christoph Molnar: Interpretable Machine Learning](https://christophm.github.io/interpretable-ml-book/feature-importance.html)\n",
    "\n",
    "#### (Default) Feature Importances\n",
    "  - [Ando Saabas: Selecting good features, Part 3, Random Forests](https://blog.datadive.net/selecting-good-features-part-iii-random-forests/)\n",
    "  - [Terence Parr, et al: Beware Default Random Forest Importances](https://explained.ai/rf-importance/index.html)\n",
    "\n",
    "#### Gradient Boosting\n",
    "  - [A Gentle Introduction to the Gradient Boosting Algorithm for Machine Learning](https://machinelearningmastery.com/gentle-introduction-gradient-boosting-algorithm-machine-learning/)\n",
    "  - _**[A Kaggle Master Explains Gradient Boosting](http://blog.kaggle.com/2017/01/23/a-kaggle-master-explains-gradient-boosting/)**_\n",
    "  - [_An Introduction to Statistical Learning_](http://www-bcf.usc.edu/~gareth/ISL/ISLR%20Seventh%20Printing.pdf) Chapter 8\n",
    "  - [Gradient Boosting Explained](http://arogozhnikov.github.io/2016/06/24/gradient_boosting_explained.html)\n",
    "  - _**[Boosting](https://www.youtube.com/watch?v=GM3CDQfQ4sw) (2.5 minute video)**_"
   ]
  },
  {
   "cell_type": "markdown",
   "metadata": {},
   "source": [
    "# Permuation \n"
   ]
  },
  {
   "cell_type": "code",
   "execution_count": 1,
   "metadata": {
    "scrolled": true
   },
   "outputs": [],
   "source": [
    "import pandas as pd\n",
    "df = pd.read_csv('yelp30kuser.csv')\n"
   ]
  },
  {
   "cell_type": "code",
   "execution_count": 2,
   "metadata": {},
   "outputs": [],
   "source": [
    "# remind ourselves what we are trying to predict \n",
    "y = df['review_count']\n",
    "import seaborn as sns \n",
    "sns.distplot(y);"
   ]
  },
  {
   "cell_type": "code",
   "execution_count": 3,
   "metadata": {},
   "outputs": [],
   "source": [
    "def engineer(X):\n",
    "    \"\"\"A function to engineer the training, validation and test datasets in the same way\"\"\"\n",
    "    # Making a copy as not to modify the original dataset \n",
    "    X = X.copy()\n",
    "    \n",
    "    # Format this column into a datetime type to extract year, month, and day \n",
    "    X['yelping_since'] = pd.to_datetime(X['yelping_since'])\n",
    "    X['user_created_year'] = X['yelping_since'].dt.year\n",
    "    X['user_created_month'] = X['yelping_since'].dt.month\n",
    "    X['user_created_day']= X['yelping_since'].dt.day \n",
    "    X = X.drop(columns='yelping_since') # drop original \n",
    "    \n",
    "    \n",
    "    # these columns were found through permutation importances for random forest\n",
    "    remove = ['fans', 'elite', 'compliment_writer',\n",
    "              'name', 'compliment_photos', 'user_created_year']\n",
    "    \n",
    "    \n",
    "    X = X.drop(columns=remove)\n",
    "    # Convert this column from a float into an integer value\n",
    "    # Since floats cannot be used as targets in a model \n",
    "#     X[\"target_star\"] = X['average_stars'].astype(int)\n",
    "    \n",
    "    # X['review_count_bin'] = pd.qcut(X['review_count'], q=10, duplicates='drop')\n",
    "    \n",
    "    # There's no spaces in the column names but this code might be useful anyway                                \n",
    "    X.columns = [col.replace(' ', '_') for col in X]\n",
    "    \n",
    "    return X"
   ]
  },
  {
   "cell_type": "code",
   "execution_count": 4,
   "metadata": {},
   "outputs": [
    {
     "data": {
      "text/plain": [
       "Unnamed:_0              int64\n",
       "user_id                object\n",
       "review_count            int64\n",
       "useful                  int64\n",
       "funny                   int64\n",
       "cool                    int64\n",
       "friends                object\n",
       "average_stars         float64\n",
       "compliment_hot          int64\n",
       "compliment_more         int64\n",
       "compliment_profile      int64\n",
       "compliment_cute         int64\n",
       "compliment_list         int64\n",
       "compliment_note         int64\n",
       "compliment_plain        int64\n",
       "compliment_cool         int64\n",
       "compliment_funny        int64\n",
       "user_created_month      int64\n",
       "user_created_day        int64\n",
       "dtype: object"
      ]
     },
     "execution_count": 4,
     "metadata": {},
     "output_type": "execute_result"
    }
   ],
   "source": [
    "# Engineer the data to work with plots \n",
    "import plotly.express as px\n",
    "df_engineered = engineer(df)\n",
    "df_engineered.dtypes"
   ]
  },
  {
   "cell_type": "code",
   "execution_count": 5,
   "metadata": {},
   "outputs": [
    {
     "data": {
      "text/plain": [
       "((27000, 23), (3000, 23))"
      ]
     },
     "execution_count": 5,
     "metadata": {},
     "output_type": "execute_result"
    }
   ],
   "source": [
    "# Split the dataframe into training and validation sets \n",
    "from sklearn.model_selection import train_test_split\n",
    "training, validation = train_test_split(df, test_size =0.1, shuffle=True, random_state=42)\n",
    "training.shape, validation.shape"
   ]
  },
  {
   "cell_type": "code",
   "execution_count": 6,
   "metadata": {},
   "outputs": [],
   "source": [
    "\n",
    "# Engineer and separate X and y \n",
    "train = engineer(training)\n",
    "val = engineer(validation)\n",
    "\n",
    "target = \"review_count\"\n",
    "\n",
    "X_train = train.drop(columns=target)\n",
    "y_train = train[target]\n",
    "\n",
    "X_val = val.drop(columns=target)\n",
    "y_val = val[target]"
   ]
  },
  {
   "cell_type": "code",
   "execution_count": null,
   "metadata": {},
   "outputs": [],
   "source": [
    "column  = 'average_stars'\n",
    "\n",
    "# Fit without column\n",
    "pipeline = make_pipeline(\n",
    "     ce.OrdinalEncoder(), \n",
    "     SimpleImputer(strategy='median'), \n",
    "    LinearRegression()\n",
    ")\n",
    "pipeline.fit(X_train.drop(columns=column), y_train)\n",
    "score_without = pipeline.score(X_val.drop(columns=column), y_val)\n",
    "print(f'Validation Accuracy without {column}: {score_without}')\n",
    "\n",
    "# Fit with column\n",
    "pipeline = make_pipeline(\n",
    "     ce.OrdinalEncoder(), \n",
    "     SimpleImputer(strategy='median'), \n",
    "    LinearRegression()\n",
    ")\n",
    "pipeline.fit(X_train, y_train)\n",
    "score_with = pipeline.score(X_val, y_val)\n",
    "print(f'Validation Accuracy with {column}: {score_with}')\n",
    "\n",
    "# Compare the error with & without column\n",
    "print(f'Drop-Column Importance for {column}: {score_with - score_without}')"
   ]
  },
  {
   "cell_type": "code",
   "execution_count": 8,
   "metadata": {},
   "outputs": [
    {
     "name": "stdout",
     "output_type": "stream",
     "text": [
      "Random Forest Validation Accuracy 0.25366666666666665\n"
     ]
    }
   ],
   "source": [
    "import category_encoders as ce\n",
    "from sklearn.impute import SimpleImputer\n",
    "from sklearn.ensemble import RandomForestClassifier\n",
    "from sklearn.pipeline import make_pipeline\n",
    "\n",
    "pipeline = make_pipeline(\n",
    "    ce.OrdinalEncoder(), \n",
    "    SimpleImputer(strategy='median'), \n",
    "    RandomForestClassifier(n_estimators=100, random_state=42, n_jobs=-1)\n",
    ")\n",
    "\n",
    "# Fit on train, score on val\n",
    "pipeline.fit(X_train, y_train)\n",
    "print('Random Forest Validation Accuracy', pipeline.score(X_val, y_val))"
   ]
  },
  {
   "cell_type": "code",
   "execution_count": 9,
   "metadata": {},
   "outputs": [
    {
     "data": {
      "image/png": "[encoded data removed]",
      "text/plain": [
       "<Figure size 720x720 with 1 Axes>"
      ]
     },
     "metadata": {
      "needs_background": "light"
     },
     "output_type": "display_data"
    }
   ],
   "source": [
    "# Get feature importances\n",
    "rf = pipeline.named_steps['randomforestclassifier']\n",
    "importances = pd.Series(rf.feature_importances_, X_train.columns)\n",
    "\n",
    "# Plot feature importances\n",
    "%matplotlib inline\n",
    "import matplotlib.pyplot as plt\n",
    "\n",
    "n = 20\n",
    "plt.figure(figsize=(10,n/2))\n",
    "plt.title(f'Top {n} features')\n",
    "importances.sort_values()[-n:].plot.barh(color='grey');"
   ]
  },
  {
   "cell_type": "code",
   "execution_count": 10,
   "metadata": {},
   "outputs": [
    {
     "name": "stdout",
     "output_type": "stream",
     "text": [
      "Validation Accuracy without Unnamed:_0: 0.247\n",
      "Validation Accuracy with Unnamed:_0: 0.25366666666666665\n",
      "Drop-Column Importance for Unnamed:_0: 0.006666666666666654\n",
      "Validation Accuracy without user_id: 0.25033333333333335\n",
      "Validation Accuracy with user_id: 0.25366666666666665\n",
      "Drop-Column Importance for user_id: 0.0033333333333332993\n",
      "Validation Accuracy without useful: 0.24533333333333332\n",
      "Validation Accuracy with useful: 0.25366666666666665\n",
      "Drop-Column Importance for useful: 0.008333333333333331\n",
      "Validation Accuracy without funny: 0.25233333333333335\n",
      "Validation Accuracy with funny: 0.25366666666666665\n",
      "Drop-Column Importance for funny: 0.0013333333333332975\n",
      "Validation Accuracy without cool: 0.25233333333333335\n",
      "Validation Accuracy with cool: 0.25366666666666665\n",
      "Drop-Column Importance for cool: 0.0013333333333332975\n",
      "Validation Accuracy without friends: 0.244\n",
      "Validation Accuracy with friends: 0.25366666666666665\n",
      "Drop-Column Importance for friends: 0.009666666666666657\n",
      "Validation Accuracy without average_stars: 0.18133333333333335\n",
      "Validation Accuracy with average_stars: 0.25366666666666665\n",
      "Drop-Column Importance for average_stars: 0.0723333333333333\n",
      "Validation Accuracy without compliment_hot: 0.25366666666666665\n",
      "Validation Accuracy with compliment_hot: 0.25366666666666665\n",
      "Drop-Column Importance for compliment_hot: 0.0\n",
      "Validation Accuracy without compliment_more: 0.247\n",
      "Validation Accuracy with compliment_more: 0.25366666666666665\n",
      "Drop-Column Importance for compliment_more: 0.006666666666666654\n",
      "Validation Accuracy without compliment_profile: 0.25833333333333336\n",
      "Validation Accuracy with compliment_profile: 0.25366666666666665\n",
      "Drop-Column Importance for compliment_profile: -0.004666666666666708\n",
      "Validation Accuracy without compliment_cute: 0.255\n",
      "Validation Accuracy with compliment_cute: 0.25366666666666665\n",
      "Drop-Column Importance for compliment_cute: -0.001333333333333353\n",
      "Validation Accuracy without compliment_list: 0.25\n",
      "Validation Accuracy with compliment_list: 0.25366666666666665\n",
      "Drop-Column Importance for compliment_list: 0.0036666666666666514\n",
      "Validation Accuracy without compliment_note: 0.24933333333333332\n",
      "Validation Accuracy with compliment_note: 0.25366666666666665\n",
      "Drop-Column Importance for compliment_note: 0.004333333333333328\n",
      "Validation Accuracy without compliment_plain: 0.24766666666666667\n",
      "Validation Accuracy with compliment_plain: 0.25366666666666665\n",
      "Drop-Column Importance for compliment_plain: 0.005999999999999978\n",
      "Validation Accuracy without compliment_cool: 0.249\n",
      "Validation Accuracy with compliment_cool: 0.25366666666666665\n",
      "Drop-Column Importance for compliment_cool: 0.004666666666666652\n",
      "Validation Accuracy without compliment_funny: 0.249\n",
      "Validation Accuracy with compliment_funny: 0.25366666666666665\n",
      "Drop-Column Importance for compliment_funny: 0.004666666666666652\n",
      "Validation Accuracy without user_created_month: 0.25366666666666665\n",
      "Validation Accuracy with user_created_month: 0.25366666666666665\n",
      "Drop-Column Importance for user_created_month: 0.0\n",
      "Validation Accuracy without user_created_day: 0.245\n",
      "Validation Accuracy with user_created_day: 0.25366666666666665\n",
      "Drop-Column Importance for user_created_day: 0.008666666666666656\n"
     ]
    }
   ],
   "source": [
    "for column in X_train.columns:\n",
    "    # Fit without column\n",
    "    pipeline = make_pipeline(\n",
    "        ce.OrdinalEncoder(), \n",
    "        SimpleImputer(strategy='median'), \n",
    "        RandomForestClassifier(n_estimators=100, random_state=42, n_jobs=-1)\n",
    "    )\n",
    "    pipeline.fit(X_train.drop(columns=column), y_train)\n",
    "    score_without = pipeline.score(X_val.drop(columns=column), y_val)\n",
    "    print(f'Validation Accuracy without {column}: {score_without}')\n",
    "\n",
    "    # Fit with column\n",
    "    pipeline = make_pipeline(\n",
    "        ce.OrdinalEncoder(), \n",
    "        SimpleImputer(strategy='median'), \n",
    "        RandomForestClassifier(n_estimators=100, random_state=42, n_jobs=-1)\n",
    "    )\n",
    "    pipeline.fit(X_train, y_train)\n",
    "    score_with = pipeline.score(X_val, y_val)\n",
    "    print(f'Validation Accuracy with {column}: {score_with}')\n",
    "\n",
    "    # Compare the error with & without column\n",
    "    print(f'Drop-Column Importance for {column}: {score_with - score_without}')"
   ]
  },
  {
   "cell_type": "code",
   "execution_count": null,
   "metadata": {},
   "outputs": [],
   "source": [
    "select = ['Unnamed_0', 'name', 'useful',\n",
    "                           'elite', 'average_stars', 'compliment_cute',\n",
    "                           'compliment_plain', 'compliment_funny',\n",
    "                           'compliment_write', 'user_created_month', 'user_created_day']\n",
    "X_train, X_val = pd.DataFrame(X_train, columns=select), pd.DataFrame(X_val, columns=select)"
   ]
  },
  {
   "cell_type": "code",
   "execution_count": 12,
   "metadata": {},
   "outputs": [],
   "source": [
    "# Prepare for Permutation importances \n",
    "from sklearn.pipeline import make_pipeline\n",
    "import category_encoders as ce\n",
    "from sklearn.impute import SimpleImputer\n",
    "\n",
    "transformers = make_pipeline(\n",
    "    ce.OrdinalEncoder(),\n",
    "    SimpleImputer(strategy='median')\n",
    ")\n",
    "\n",
    "X_train_transformed = transformers.fit_transform(X_train)\n",
    "X_val_transformed = transformers.transform(X_val)\n"
   ]
  },
  {
   "cell_type": "code",
   "execution_count": 14,
   "metadata": {},
   "outputs": [
    {
     "data": {
      "text/plain": [
       "((27000, 18), (3000, 18))"
      ]
     },
     "execution_count": 14,
     "metadata": {},
     "output_type": "execute_result"
    }
   ],
   "source": [
    "X_train.shape, X_val.shape"
   ]
  },
  {
   "cell_type": "code",
   "execution_count": 15,
   "metadata": {},
   "outputs": [
    {
     "name": "stdout",
     "output_type": "stream",
     "text": [
      "Training Accuracy 0.7955992778095625\n",
      "Validation Accuracy 0.7056969881906694\n"
     ]
    }
   ],
   "source": [
    "from sklearn.linear_model import LinearRegression\n",
    "model = LinearRegression(n_jobs=-1)\n",
    "\n",
    "# No difference\n",
    "model.fit(X_train_transformed, y_train)\n",
    "\n",
    "print('Training Accuracy', model.score(X_train_transformed, y_train))\n",
    "print('Validation Accuracy', model.score(X_val_transformed, y_val))"
   ]
  },
  {
   "cell_type": "code",
   "execution_count": 16,
   "metadata": {},
   "outputs": [
    {
     "data": {
      "text/plain": [
       "RandomForestClassifier(bootstrap=True, class_weight=None, criterion='gini',\n",
       "                       max_depth=None, max_features='auto', max_leaf_nodes=None,\n",
       "                       min_impurity_decrease=0.0, min_impurity_split=None,\n",
       "                       min_samples_leaf=1, min_samples_split=2,\n",
       "                       min_weight_fraction_leaf=0.0, n_estimators=100,\n",
       "                       n_jobs=-1, oob_score=False, random_state=42, verbose=0,\n",
       "                       warm_start=False)"
      ]
     },
     "execution_count": 16,
     "metadata": {},
     "output_type": "execute_result"
    }
   ],
   "source": [
    "model = RandomForestClassifier(n_estimators=100, random_state=42, n_jobs=-1)\n",
    "model.fit(X_train_transformed, y_train)"
   ]
  },
  {
   "cell_type": "code",
   "execution_count": 17,
   "metadata": {},
   "outputs": [
    {
     "data": {
      "text/plain": [
       "PermutationImportance(cv='prefit',\n",
       "                      estimator=RandomForestClassifier(bootstrap=True,\n",
       "                                                       class_weight=None,\n",
       "                                                       criterion='gini',\n",
       "                                                       max_depth=None,\n",
       "                                                       max_features='auto',\n",
       "                                                       max_leaf_nodes=None,\n",
       "                                                       min_impurity_decrease=0.0,\n",
       "                                                       min_impurity_split=None,\n",
       "                                                       min_samples_leaf=1,\n",
       "                                                       min_samples_split=2,\n",
       "                                                       min_weight_fraction_leaf=0.0,\n",
       "                                                       n_estimators=100,\n",
       "                                                       n_jobs=-1,\n",
       "                                                       oob_score=False,\n",
       "                                                       random_state=42,\n",
       "                                                       verbose=0,\n",
       "                                                       warm_start=False),\n",
       "                      n_iter=5, random_state=42, refit=True,\n",
       "                      scoring='accuracy')"
      ]
     },
     "execution_count": 17,
     "metadata": {},
     "output_type": "execute_result"
    }
   ],
   "source": [
    "import eli5\n",
    "from eli5.sklearn import PermutationImportance\n",
    "\n",
    "permuter = PermutationImportance(\n",
    "    model, \n",
    "    scoring='accuracy', \n",
    "    n_iter=5, \n",
    "    random_state=42\n",
    ")\n",
    "\n",
    "permuter.fit(X_val_transformed, y_val)"
   ]
  },
  {
   "cell_type": "code",
   "execution_count": 18,
   "metadata": {},
   "outputs": [
    {
     "data": {
      "text/plain": [
       "average_stars         0.102333\n",
       "useful                0.039533\n",
       "funny                 0.015400\n",
       "Unnamed:_0            0.010533\n",
       "cool                  0.008467\n",
       "compliment_note       0.003800\n",
       "user_created_month    0.003667\n",
       "user_created_day      0.000533\n",
       "compliment_funny      0.000533\n",
       "compliment_cute       0.000333\n",
       "compliment_more       0.000133\n",
       "friends               0.000000\n",
       "user_id               0.000000\n",
       "compliment_list      -0.000067\n",
       "compliment_plain     -0.000067\n",
       "compliment_hot       -0.000133\n",
       "compliment_profile   -0.000333\n",
       "compliment_cool      -0.000667\n",
       "dtype: float64"
      ]
     },
     "execution_count": 18,
     "metadata": {},
     "output_type": "execute_result"
    }
   ],
   "source": [
    "feature_names = X_val.columns.tolist()\n",
    "pd.Series(permuter.feature_importances_, feature_names).sort_values(ascending=False)"
   ]
  },
  {
   "cell_type": "code",
   "execution_count": 19,
   "metadata": {},
   "outputs": [
    {
     "data": {
      "text/html": [
       "\n",
       "    <style>\n",
       "    table.eli5-weights tr:hover {\n",
       "        filter: brightness(85%);\n",
       "    }\n",
       "</style>\n",
       "\n",
       "\n",
       "\n",
       "    \n",
       "\n",
       "    \n",
       "\n",
       "    \n",
       "\n",
       "    \n",
       "\n",
       "    \n",
       "\n",
       "    \n",
       "\n",
       "\n",
       "    \n",
       "\n",
       "    \n",
       "\n",
       "    \n",
       "\n",
       "    \n",
       "\n",
       "    \n",
       "\n",
       "    \n",
       "\n",
       "\n",
       "    \n",
       "\n",
       "    \n",
       "\n",
       "    \n",
       "\n",
       "    \n",
       "\n",
       "    \n",
       "        <table class=\"eli5-weights eli5-feature-importances\" style=\"border-collapse: collapse; border: none; margin-top: 0em; table-layout: auto;\">\n",
       "    <thead>\n",
       "    <tr style=\"border: none;\">\n",
       "        <th style=\"padding: 0 1em 0 0.5em; text-align: right; border: none;\">Weight</th>\n",
       "        <th style=\"padding: 0 0.5em 0 0.5em; text-align: left; border: none;\">Feature</th>\n",
       "    </tr>\n",
       "    </thead>\n",
       "    <tbody>\n",
       "    \n",
       "        <tr style=\"background-color: hsl(120, 100.00%, 80.00%); border: none;\">\n",
       "            <td style=\"padding: 0 1em 0 0.5em; text-align: right; border: none;\">\n",
       "                0.1023\n",
       "                \n",
       "                    &plusmn; 0.0077\n",
       "                \n",
       "            </td>\n",
       "            <td style=\"padding: 0 0.5em 0 0.5em; text-align: left; border: none;\">\n",
       "                average_stars\n",
       "            </td>\n",
       "        </tr>\n",
       "    \n",
       "        <tr style=\"background-color: hsl(120, 100.00%, 89.72%); border: none;\">\n",
       "            <td style=\"padding: 0 1em 0 0.5em; text-align: right; border: none;\">\n",
       "                0.0395\n",
       "                \n",
       "                    &plusmn; 0.0073\n",
       "                \n",
       "            </td>\n",
       "            <td style=\"padding: 0 0.5em 0 0.5em; text-align: left; border: none;\">\n",
       "                useful\n",
       "            </td>\n",
       "        </tr>\n",
       "    \n",
       "        <tr style=\"background-color: hsl(120, 100.00%, 94.69%); border: none;\">\n",
       "            <td style=\"padding: 0 1em 0 0.5em; text-align: right; border: none;\">\n",
       "                0.0154\n",
       "                \n",
       "                    &plusmn; 0.0028\n",
       "                \n",
       "            </td>\n",
       "            <td style=\"padding: 0 0.5em 0 0.5em; text-align: left; border: none;\">\n",
       "                funny\n",
       "            </td>\n",
       "        </tr>\n",
       "    \n",
       "        <tr style=\"background-color: hsl(120, 100.00%, 95.93%); border: none;\">\n",
       "            <td style=\"padding: 0 1em 0 0.5em; text-align: right; border: none;\">\n",
       "                0.0105\n",
       "                \n",
       "                    &plusmn; 0.0095\n",
       "                \n",
       "            </td>\n",
       "            <td style=\"padding: 0 0.5em 0 0.5em; text-align: left; border: none;\">\n",
       "                Unnamed:_0\n",
       "            </td>\n",
       "        </tr>\n",
       "    \n",
       "        <tr style=\"background-color: hsl(120, 100.00%, 96.51%); border: none;\">\n",
       "            <td style=\"padding: 0 1em 0 0.5em; text-align: right; border: none;\">\n",
       "                0.0085\n",
       "                \n",
       "                    &plusmn; 0.0077\n",
       "                \n",
       "            </td>\n",
       "            <td style=\"padding: 0 0.5em 0 0.5em; text-align: left; border: none;\">\n",
       "                cool\n",
       "            </td>\n",
       "        </tr>\n",
       "    \n",
       "        <tr style=\"background-color: hsl(120, 100.00%, 98.01%); border: none;\">\n",
       "            <td style=\"padding: 0 1em 0 0.5em; text-align: right; border: none;\">\n",
       "                0.0038\n",
       "                \n",
       "                    &plusmn; 0.0023\n",
       "                \n",
       "            </td>\n",
       "            <td style=\"padding: 0 0.5em 0 0.5em; text-align: left; border: none;\">\n",
       "                compliment_note\n",
       "            </td>\n",
       "        </tr>\n",
       "    \n",
       "        <tr style=\"background-color: hsl(120, 100.00%, 98.05%); border: none;\">\n",
       "            <td style=\"padding: 0 1em 0 0.5em; text-align: right; border: none;\">\n",
       "                0.0037\n",
       "                \n",
       "                    &plusmn; 0.0042\n",
       "                \n",
       "            </td>\n",
       "            <td style=\"padding: 0 0.5em 0 0.5em; text-align: left; border: none;\">\n",
       "                user_created_month\n",
       "            </td>\n",
       "        </tr>\n",
       "    \n",
       "        <tr style=\"background-color: hsl(120, 100.00%, 99.50%); border: none;\">\n",
       "            <td style=\"padding: 0 1em 0 0.5em; text-align: right; border: none;\">\n",
       "                0.0005\n",
       "                \n",
       "                    &plusmn; 0.0047\n",
       "                \n",
       "            </td>\n",
       "            <td style=\"padding: 0 0.5em 0 0.5em; text-align: left; border: none;\">\n",
       "                user_created_day\n",
       "            </td>\n",
       "        </tr>\n",
       "    \n",
       "        <tr style=\"background-color: hsl(120, 100.00%, 99.50%); border: none;\">\n",
       "            <td style=\"padding: 0 1em 0 0.5em; text-align: right; border: none;\">\n",
       "                0.0005\n",
       "                \n",
       "                    &plusmn; 0.0014\n",
       "                \n",
       "            </td>\n",
       "            <td style=\"padding: 0 0.5em 0 0.5em; text-align: left; border: none;\">\n",
       "                compliment_funny\n",
       "            </td>\n",
       "        </tr>\n",
       "    \n",
       "        <tr style=\"background-color: hsl(120, 100.00%, 99.64%); border: none;\">\n",
       "            <td style=\"padding: 0 1em 0 0.5em; text-align: right; border: none;\">\n",
       "                0.0003\n",
       "                \n",
       "                    &plusmn; 0.0008\n",
       "                \n",
       "            </td>\n",
       "            <td style=\"padding: 0 0.5em 0 0.5em; text-align: left; border: none;\">\n",
       "                compliment_cute\n",
       "            </td>\n",
       "        </tr>\n",
       "    \n",
       "        <tr style=\"background-color: hsl(120, 100.00%, 99.81%); border: none;\">\n",
       "            <td style=\"padding: 0 1em 0 0.5em; text-align: right; border: none;\">\n",
       "                0.0001\n",
       "                \n",
       "                    &plusmn; 0.0031\n",
       "                \n",
       "            </td>\n",
       "            <td style=\"padding: 0 0.5em 0 0.5em; text-align: left; border: none;\">\n",
       "                compliment_more\n",
       "            </td>\n",
       "        </tr>\n",
       "    \n",
       "        <tr style=\"background-color: hsl(0, 100.00%, 100.00%); border: none;\">\n",
       "            <td style=\"padding: 0 1em 0 0.5em; text-align: right; border: none;\">\n",
       "                0\n",
       "                \n",
       "                    &plusmn; 0.0000\n",
       "                \n",
       "            </td>\n",
       "            <td style=\"padding: 0 0.5em 0 0.5em; text-align: left; border: none;\">\n",
       "                friends\n",
       "            </td>\n",
       "        </tr>\n",
       "    \n",
       "        <tr style=\"background-color: hsl(0, 100.00%, 100.00%); border: none;\">\n",
       "            <td style=\"padding: 0 1em 0 0.5em; text-align: right; border: none;\">\n",
       "                0\n",
       "                \n",
       "                    &plusmn; 0.0000\n",
       "                \n",
       "            </td>\n",
       "            <td style=\"padding: 0 0.5em 0 0.5em; text-align: left; border: none;\">\n",
       "                user_id\n",
       "            </td>\n",
       "        </tr>\n",
       "    \n",
       "        <tr style=\"background-color: hsl(0, 100.00%, 99.88%); border: none;\">\n",
       "            <td style=\"padding: 0 1em 0 0.5em; text-align: right; border: none;\">\n",
       "                -0.0001\n",
       "                \n",
       "                    &plusmn; 0.0003\n",
       "                \n",
       "            </td>\n",
       "            <td style=\"padding: 0 0.5em 0 0.5em; text-align: left; border: none;\">\n",
       "                compliment_list\n",
       "            </td>\n",
       "        </tr>\n",
       "    \n",
       "        <tr style=\"background-color: hsl(0, 100.00%, 99.88%); border: none;\">\n",
       "            <td style=\"padding: 0 1em 0 0.5em; text-align: right; border: none;\">\n",
       "                -0.0001\n",
       "                \n",
       "                    &plusmn; 0.0074\n",
       "                \n",
       "            </td>\n",
       "            <td style=\"padding: 0 0.5em 0 0.5em; text-align: left; border: none;\">\n",
       "                compliment_plain\n",
       "            </td>\n",
       "        </tr>\n",
       "    \n",
       "        <tr style=\"background-color: hsl(0, 100.00%, 99.81%); border: none;\">\n",
       "            <td style=\"padding: 0 1em 0 0.5em; text-align: right; border: none;\">\n",
       "                -0.0001\n",
       "                \n",
       "                    &plusmn; 0.0020\n",
       "                \n",
       "            </td>\n",
       "            <td style=\"padding: 0 0.5em 0 0.5em; text-align: left; border: none;\">\n",
       "                compliment_hot\n",
       "            </td>\n",
       "        </tr>\n",
       "    \n",
       "        <tr style=\"background-color: hsl(0, 100.00%, 99.64%); border: none;\">\n",
       "            <td style=\"padding: 0 1em 0 0.5em; text-align: right; border: none;\">\n",
       "                -0.0003\n",
       "                \n",
       "                    &plusmn; 0.0004\n",
       "                \n",
       "            </td>\n",
       "            <td style=\"padding: 0 0.5em 0 0.5em; text-align: left; border: none;\">\n",
       "                compliment_profile\n",
       "            </td>\n",
       "        </tr>\n",
       "    \n",
       "        <tr style=\"background-color: hsl(0, 100.00%, 99.41%); border: none;\">\n",
       "            <td style=\"padding: 0 1em 0 0.5em; text-align: right; border: none;\">\n",
       "                -0.0007\n",
       "                \n",
       "                    &plusmn; 0.0021\n",
       "                \n",
       "            </td>\n",
       "            <td style=\"padding: 0 0.5em 0 0.5em; text-align: left; border: none;\">\n",
       "                compliment_cool\n",
       "            </td>\n",
       "        </tr>\n",
       "    \n",
       "    \n",
       "    </tbody>\n",
       "</table>\n",
       "    \n",
       "\n",
       "    \n",
       "\n",
       "\n",
       "    \n",
       "\n",
       "    \n",
       "\n",
       "    \n",
       "\n",
       "    \n",
       "\n",
       "    \n",
       "\n",
       "    \n",
       "\n",
       "\n",
       "\n"
      ],
      "text/plain": [
       "<IPython.core.display.HTML object>"
      ]
     },
     "execution_count": 19,
     "metadata": {},
     "output_type": "execute_result"
    }
   ],
   "source": [
    "feature_names = X_val.columns.tolist()\n",
    "\n",
    "eli5.show_weights(\n",
    "    permuter,\n",
    "    top=None, # show permutation importances for all features\n",
    "    feature_names=feature_names\n",
    ")"
   ]
  },
  {
   "cell_type": "code",
   "execution_count": 20,
   "metadata": {},
   "outputs": [
    {
     "name": "stdout",
     "output_type": "stream",
     "text": [
      "Shape before removing features: (27000, 18)\n"
     ]
    }
   ],
   "source": [
    "print('Shape before removing features:', X_train.shape)"
   ]
  },
  {
   "cell_type": "code",
   "execution_count": 21,
   "metadata": {},
   "outputs": [],
   "source": [
    "minimum_importance = 0\n",
    "mask = permuter.feature_importances_ > minimum_importance\n",
    "features = X_train.columns[mask]\n",
    "X_train = X_train[features]"
   ]
  },
  {
   "cell_type": "code",
   "execution_count": 22,
   "metadata": {},
   "outputs": [
    {
     "name": "stdout",
     "output_type": "stream",
     "text": [
      "Validation Accuracy 0.25933333333333336\n"
     ]
    }
   ],
   "source": [
    "X_val = X_val[features]\n",
    "\n",
    "pipeline = make_pipeline(\n",
    "    ce.OrdinalEncoder(), \n",
    "    SimpleImputer(strategy='median'), \n",
    "    RandomForestClassifier(n_estimators=100, random_state=42, n_jobs=-1)\n",
    ")\n",
    "\n",
    "# Fit on train, score on val\n",
    "pipeline.fit(X_train, y_train)\n",
    "\n",
    "# this is better for decision tree, this indicates that dropping colums that improve the decision\n",
    "# decision tree/random forest do not improve the accuracy for linear regression \n",
    "# which makes sense intuitively I guess \n",
    "print('Validation Accuracy', pipeline.score(X_val, y_val))"
   ]
  },
  {
   "cell_type": "markdown",
   "metadata": {},
   "source": [
    "# The Random Forest score improved with dropping negative importance columns. \n",
    "When I tried dropping the same columns from the Linear Regression the score didn't improve, which makes sense intuitively since a straight line isn't going to be effected by small differences like a decision tree will.  "
   ]
  },
  {
   "cell_type": "code",
   "execution_count": 23,
   "metadata": {},
   "outputs": [
    {
     "name": "stdout",
     "output_type": "stream",
     "text": [
      "Validation Accuracy 0.18966666666666668\n"
     ]
    }
   ],
   "source": [
    "from xgboost import XGBClassifier\n",
    "\n",
    "pipeline = make_pipeline(\n",
    "    ce.OrdinalEncoder(), \n",
    "    XGBClassifier(n_estimators=10, random_state=42, n_jobs=-1)\n",
    ")\n",
    "\n",
    "pipeline.fit(X_train, y_train)\n",
    "\n",
    "from sklearn.metrics import accuracy_score\n",
    "y_pred = pipeline.predict(X_val)\n",
    "print('Validation Accuracy', accuracy_score(y_val, y_pred))"
   ]
  },
  {
   "cell_type": "markdown",
   "metadata": {},
   "source": [
    "# Gradient Boosting is significantly more accurate than Random Forest "
   ]
  },
  {
   "cell_type": "code",
   "execution_count": 24,
   "metadata": {},
   "outputs": [
    {
     "data": {
      "text/plain": [
       "((27000, 23), (3000, 23))"
      ]
     },
     "execution_count": 24,
     "metadata": {},
     "output_type": "execute_result"
    }
   ],
   "source": [
    "# Split the dataframe into training and validation sets \n",
    "import pandas as pd\n",
    "df = pd.read_csv('yelp30kuser.csv')\n",
    "\n",
    "def engineer(X):\n",
    "    \"\"\"A function to engineer the training, validation and test datasets in the same way\"\"\"\n",
    "    # Making a copy as not to modify the original dataset \n",
    "    X = X.copy()\n",
    "    \n",
    "    # Format this column into a datetime type to extract year, month, and day \n",
    "    X['yelping_since'] = pd.to_datetime(X['yelping_since'])\n",
    "    X['user_created_year'] = X['yelping_since'].dt.year\n",
    "    X['user_created_month'] = X['yelping_since'].dt.month\n",
    "    X['user_created_day']= X['yelping_since'].dt.day \n",
    "    X = X.drop(columns='yelping_since') # drop original \n",
    "    \n",
    "    \n",
    "    # these columns were found through permutation importances for random forest\n",
    "    remove = ['fans', 'elite', 'compliment_writer',\n",
    "              'name', 'compliment_photos', 'user_created_year']\n",
    "    \n",
    "    \n",
    "    X = X.drop(columns=remove)\n",
    "    # Convert this column from a float into an integer value\n",
    "    # Since floats cannot be used as targets in a model \n",
    "#     X[\"target_star\"] = X['average_stars'].astype(int)\n",
    "    \n",
    "    # X['review_count_bin'] = pd.qcut(X['review_count'], q=10, duplicates='drop')\n",
    "    \n",
    "    # There's no spaces in the column names but this code might be useful anyway                                \n",
    "    X.columns = [col.replace(' ', '_') for col in X]\n",
    "    \n",
    "    return X\n",
    "\n",
    "from sklearn.model_selection import train_test_split\n",
    "training, validation = train_test_split(df, test_size =0.1, shuffle=True, random_state=42)\n",
    "training.shape, validation.shape\n"
   ]
  },
  {
   "cell_type": "code",
   "execution_count": 25,
   "metadata": {},
   "outputs": [],
   "source": [
    "# Engineer and separate X and y \n",
    "train = engineer(training)\n",
    "val = engineer(validation)\n",
    "\n",
    "target = \"review_count\"\n",
    "\n",
    "X_train = train.drop(columns=target)\n",
    "y_train = train[target]\n",
    "\n",
    "X_val = val.drop(columns=target)\n",
    "y_val = val[target]\n",
    "\n",
    "\n"
   ]
  },
  {
   "cell_type": "code",
   "execution_count": 27,
   "metadata": {},
   "outputs": [
    {
     "name": "stdout",
     "output_type": "stream",
     "text": [
      "[0]\tvalidation_0-mae:20.6874\tvalidation_1-mae:17.0264\n",
      "Multiple eval metrics have been passed: 'validation_1-mae' will be used for early stopping.\n",
      "\n",
      "Will train until validation_1-mae hasn't improved in 20 rounds.\n",
      "[1]\tvalidation_0-mae:18.7299\tvalidation_1-mae:15.4738\n",
      "[2]\tvalidation_0-mae:17.0043\tvalidation_1-mae:14.1356\n",
      "[3]\tvalidation_0-mae:15.4704\tvalidation_1-mae:12.9366\n",
      "[4]\tvalidation_0-mae:14.1277\tvalidation_1-mae:11.9276\n",
      "[5]\tvalidation_0-mae:12.9529\tvalidation_1-mae:11.1271\n",
      "[6]\tvalidation_0-mae:11.9384\tvalidation_1-mae:10.4571\n",
      "[7]\tvalidation_0-mae:11.0507\tvalidation_1-mae:9.92041\n"
     ]
    },
    {
     "name": "stderr",
     "output_type": "stream",
     "text": [
      "C:\\Users\\Ryloid\\Anaconda3\\envs\\unit2\\lib\\site-packages\\xgboost\\core.py:587: FutureWarning:\n",
      "\n",
      "Series.base is deprecated and will be removed in a future version\n",
      "\n",
      "C:\\Users\\Ryloid\\Anaconda3\\envs\\unit2\\lib\\site-packages\\xgboost\\core.py:588: FutureWarning:\n",
      "\n",
      "Series.base is deprecated and will be removed in a future version\n",
      "\n"
     ]
    },
    {
     "name": "stdout",
     "output_type": "stream",
     "text": [
      "[8]\tvalidation_0-mae:10.2842\tvalidation_1-mae:9.49228\n",
      "[9]\tvalidation_0-mae:9.61777\tvalidation_1-mae:9.14603\n",
      "[10]\tvalidation_0-mae:9.03224\tvalidation_1-mae:8.88705\n",
      "[11]\tvalidation_0-mae:8.51863\tvalidation_1-mae:8.7215\n",
      "[12]\tvalidation_0-mae:8.08086\tvalidation_1-mae:8.58835\n",
      "[13]\tvalidation_0-mae:7.6962\tvalidation_1-mae:8.47369\n",
      "[14]\tvalidation_0-mae:7.36238\tvalidation_1-mae:8.39192\n",
      "[15]\tvalidation_0-mae:7.06296\tvalidation_1-mae:8.34288\n",
      "[16]\tvalidation_0-mae:6.80035\tvalidation_1-mae:8.32127\n",
      "[17]\tvalidation_0-mae:6.56649\tvalidation_1-mae:8.30391\n",
      "[18]\tvalidation_0-mae:6.35212\tvalidation_1-mae:8.31133\n",
      "[19]\tvalidation_0-mae:6.17488\tvalidation_1-mae:8.31493\n",
      "[20]\tvalidation_0-mae:6.02427\tvalidation_1-mae:8.32975\n",
      "[21]\tvalidation_0-mae:5.89392\tvalidation_1-mae:8.3935\n",
      "[22]\tvalidation_0-mae:5.7663\tvalidation_1-mae:8.44855\n",
      "[23]\tvalidation_0-mae:5.66285\tvalidation_1-mae:8.48996\n",
      "[24]\tvalidation_0-mae:5.5689\tvalidation_1-mae:8.55971\n",
      "[25]\tvalidation_0-mae:5.48035\tvalidation_1-mae:8.5995\n",
      "[26]\tvalidation_0-mae:5.39494\tvalidation_1-mae:8.6326\n",
      "[27]\tvalidation_0-mae:5.31972\tvalidation_1-mae:8.66075\n",
      "[28]\tvalidation_0-mae:5.25041\tvalidation_1-mae:8.67449\n",
      "[29]\tvalidation_0-mae:5.18454\tvalidation_1-mae:8.73385\n",
      "[30]\tvalidation_0-mae:5.11539\tvalidation_1-mae:8.75988\n",
      "[31]\tvalidation_0-mae:5.06008\tvalidation_1-mae:8.77831\n",
      "[32]\tvalidation_0-mae:4.99951\tvalidation_1-mae:8.81998\n",
      "[33]\tvalidation_0-mae:4.94904\tvalidation_1-mae:8.85351\n",
      "[34]\tvalidation_0-mae:4.90461\tvalidation_1-mae:8.87862\n",
      "[35]\tvalidation_0-mae:4.86272\tvalidation_1-mae:8.89042\n",
      "[36]\tvalidation_0-mae:4.8248\tvalidation_1-mae:8.90781\n",
      "[37]\tvalidation_0-mae:4.78618\tvalidation_1-mae:8.91677\n",
      "Stopping. Best iteration:\n",
      "[17]\tvalidation_0-mae:6.56649\tvalidation_1-mae:8.30391\n",
      "\n"
     ]
    },
    {
     "data": {
      "text/plain": [
       "XGBRegressor(base_score=0.5, booster='gbtree', colsample_bylevel=1,\n",
       "             colsample_bynode=1, colsample_bytree=1, gamma=0,\n",
       "             importance_type='gain', learning_rate=0.1, max_delta_step=0,\n",
       "             max_depth=10, min_child_weight=1, missing=None, n_estimators=1000,\n",
       "             n_jobs=-1, nthread=None, objective='reg:squarederror',\n",
       "             random_state=0, reg_alpha=0, reg_lambda=1, scale_pos_weight=1,\n",
       "             seed=None, silent=None, subsample=1, verbosity=1)"
      ]
     },
     "execution_count": 27,
     "metadata": {},
     "output_type": "execute_result"
    }
   ],
   "source": [
    "import category_encoders as ce\n",
    "from sklearn.impute import SimpleImputer\n",
    "from sklearn.pipeline import make_pipeline\n",
    "from xgboost import XGBRegressor\n",
    "\n",
    "transformers = make_pipeline(ce.OrdinalEncoder(), SimpleImputer())\n",
    "X_train_transformed = transformers.fit_transform(X_train)\n",
    "X_val_transformed = transformers.transform(X_val)\n",
    "\n",
    "eval_set = [(X_train_transformed, y_train), \n",
    "            (X_val_transformed, y_val)]\n",
    "\n",
    "model = XGBRegressor(\n",
    "    n_estimators=1000, \n",
    "    max_depth=10, \n",
    "    objective='reg:squarederror', \n",
    "    n_jobs=-1, \n",
    ")\n",
    "\n",
    "\n",
    "model.fit(X_train_transformed, y_train, eval_set=eval_set, \n",
    "          eval_metric='mae', early_stopping_rounds=20)"
   ]
  },
  {
   "cell_type": "code",
   "execution_count": null,
   "metadata": {},
   "outputs": [],
   "source": []
  },
  {
   "cell_type": "code",
   "execution_count": null,
   "metadata": {},
   "outputs": [],
   "source": []
  },
  {
   "cell_type": "code",
   "execution_count": null,
   "metadata": {},
   "outputs": [],
   "source": []
  },
  {
   "cell_type": "code",
   "execution_count": null,
   "metadata": {},
   "outputs": [],
   "source": []
  },
  {
   "cell_type": "code",
   "execution_count": null,
   "metadata": {},
   "outputs": [],
   "source": [
    "\n",
    "\n",
    "\n",
    "\n",
    "\n",
    "\n",
    "\n",
    "\n",
    "\n",
    "\n",
    "\n",
    "\n",
    "\n",
    "\n",
    "\n",
    "\n",
    "\n",
    "\n",
    "\n",
    "\n",
    "\n",
    "\n",
    "\n",
    "\n",
    "\n",
    "\n",
    "\n",
    "\n",
    "\n",
    "\n",
    "\n",
    "\n",
    "\n",
    "\n",
    "\n",
    "\n",
    "\n",
    "\n",
    "\n",
    "\n",
    "\n",
    "\n",
    "\n",
    "\n",
    "\n",
    "\n",
    "\n",
    "\n",
    "\n",
    "\n",
    "\n",
    "\n",
    "\n",
    "\n",
    "\n",
    "\n",
    "\n",
    "\n",
    "\n",
    "\n"
   ]
  }
 ],
 "metadata": {
  "kernelspec": {
   "display_name": "Python 3",
   "language": "python",
   "name": "python3"
  },
  "language_info": {
   "codemirror_mode": {
    "name": "ipython",
    "version": 3
   },
   "file_extension": ".py",
   "mimetype": "text/x-python",
   "name": "python",
   "nbconvert_exporter": "python",
   "pygments_lexer": "ipython3",
   "version": "3.7.4"
  }
 },
 "nbformat": 4,
 "nbformat_minor": 2
}
