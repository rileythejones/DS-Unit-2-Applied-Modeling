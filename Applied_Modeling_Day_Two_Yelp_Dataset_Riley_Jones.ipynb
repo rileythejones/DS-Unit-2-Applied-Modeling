{
  "nbformat": 4,
  "nbformat_minor": 0,
  "metadata": {
    "kernelspec": {
      "display_name": "Python 3",
      "language": "python",
      "name": "python3"
    },
    "language_info": {
      "codemirror_mode": {
        "name": "ipython",
        "version": 3
      },
      "file_extension": ".py",
      "mimetype": "text/x-python",
      "name": "python",
      "nbconvert_exporter": "python",
      "pygments_lexer": "ipython3",
      "version": "3.7.4"
    },
    "colab": {
      "name": "Applied Modeling Day Two - Yelp Dataset - Riley Jones.ipynb",
      "provenance": [],
      "include_colab_link": true
    }
  },
  "cells": [
    {
      "cell_type": "markdown",
      "metadata": {
        "id": "view-in-github",
        "colab_type": "text"
      },
      "source": [
        "<a href=\"https://colab.research.google.com/github/rileythejones/DS-Unit-2-Applied-Modeling/blob/master/Applied_Modeling_Day_Two_Yelp_Dataset_Riley_Jones.ipynb\" target=\"_parent\"><img src=\"https://colab.research.google.com/assets/colab-badge.svg\" alt=\"Open In Colab\"/></a>"
      ]
    },
    {
      "cell_type": "code",
      "metadata": {
        "id": "GdOnfPhps0n7",
        "colab_type": "code",
        "colab": {}
      },
      "source": [
        ""
      ],
      "execution_count": 0,
      "outputs": []
    },
    {
      "cell_type": "markdown",
      "metadata": {
        "id": "IBmAGMWCs0oB",
        "colab_type": "text"
      },
      "source": [
        "Lambda School Data Science\n",
        "\n",
        "*Unit 2, Sprint 3, Module 2*\n",
        "\n",
        "---\n",
        "\n",
        "\n",
        "# Permutation & Boosting\n",
        "\n",
        "You will use your portfolio project dataset for all assignments this sprint.\n",
        "\n",
        "## Assignment\n",
        "\n",
        "Complete these tasks for your project, and document your work.\n",
        "\n",
        "- [ ] If you haven't completed assignment #1, please do so first.\n",
        "- [ ] Continue to clean and explore your data. Make exploratory visualizations.\n",
        "- [ ] Fit a model. Does it beat your baseline? \n",
        "- [ ] Try xgboost.\n",
        "- [ ] Get your model's permutation importances.\n",
        "\n",
        "You should try to complete an initial model today, because the rest of the week, we're making model interpretation visualizations.\n",
        "\n",
        "But, if you aren't ready to try xgboost and permutation importances with your dataset today, that's okay. You can practice with another dataset instead. You may choose any dataset you've worked with previously.\n",
        "\n",
        "The data subdirectory includes the Titanic dataset for classification and the NYC apartments dataset for regression. You may want to choose one of these datasets, because example solutions will be available for each.\n",
        "\n",
        "\n",
        "## Reading\n",
        "\n",
        "Top recommendations in _**bold italic:**_\n",
        "\n",
        "#### Permutation Importances\n",
        "- _**[Kaggle / Dan Becker: Machine Learning Explainability](https://www.kaggle.com/dansbecker/permutation-importance)**_\n",
        "- [Christoph Molnar: Interpretable Machine Learning](https://christophm.github.io/interpretable-ml-book/feature-importance.html)\n",
        "\n",
        "#### (Default) Feature Importances\n",
        "  - [Ando Saabas: Selecting good features, Part 3, Random Forests](https://blog.datadive.net/selecting-good-features-part-iii-random-forests/)\n",
        "  - [Terence Parr, et al: Beware Default Random Forest Importances](https://explained.ai/rf-importance/index.html)\n",
        "\n",
        "#### Gradient Boosting\n",
        "  - [A Gentle Introduction to the Gradient Boosting Algorithm for Machine Learning](https://machinelearningmastery.com/gentle-introduction-gradient-boosting-algorithm-machine-learning/)\n",
        "  - _**[A Kaggle Master Explains Gradient Boosting](http://blog.kaggle.com/2017/01/23/a-kaggle-master-explains-gradient-boosting/)**_\n",
        "  - [_An Introduction to Statistical Learning_](http://www-bcf.usc.edu/~gareth/ISL/ISLR%20Seventh%20Printing.pdf) Chapter 8\n",
        "  - [Gradient Boosting Explained](http://arogozhnikov.github.io/2016/06/24/gradient_boosting_explained.html)\n",
        "  - _**[Boosting](https://www.youtube.com/watch?v=GM3CDQfQ4sw) (2.5 minute video)**_"
      ]
    },
    {
      "cell_type": "markdown",
      "metadata": {
        "id": "sEdHspMLs0oF",
        "colab_type": "text"
      },
      "source": [
        "# Permuation \n"
      ]
    },
    {
      "cell_type": "code",
      "metadata": {
        "id": "JKzfIv6Xs0oI",
        "colab_type": "code",
        "colab": {},
        "outputId": "e9becbe3-52e5-4030-8353-36cc96d00193"
      },
      "source": [
        "ls"
      ],
      "execution_count": 0,
      "outputs": [
        {
          "output_type": "stream",
          "text": [
            " Volume in drive C has no label.\n",
            " Volume Serial Number is 2A66-B6CC\n",
            "\n",
            " Directory of C:\\Users\\Ryloid\\Documents\\Data Science\\yelp project\n",
            "\n",
            "12-Nov-19  06:30 PM    <DIR>          .\n",
            "12-Nov-19  06:30 PM    <DIR>          ..\n",
            "12-Nov-19  04:12 PM    <DIR>          .ipynb_checkpoints\n",
            "11-Nov-19  05:49 PM             8,654 2004.png\n",
            "11-Nov-19  05:49 PM             8,680 2005.png\n",
            "11-Nov-19  05:49 PM             8,713 2006.png\n",
            "11-Nov-19  05:49 PM             8,761 2007.png\n",
            "11-Nov-19  05:49 PM             8,789 2008.png\n",
            "11-Nov-19  05:50 PM             8,862 2009.png\n",
            "11-Nov-19  05:50 PM             8,967 2010.png\n",
            "11-Nov-19  05:50 PM             9,072 2011.png\n",
            "11-Nov-19  05:50 PM             9,146 2012.png\n",
            "11-Nov-19  05:51 PM             9,201 2013.png\n",
            "11-Nov-19  05:51 PM             9,307 2014.png\n",
            "11-Nov-19  05:51 PM             9,371 2015.png\n",
            "11-Nov-19  05:46 PM             9,141 2016.png\n",
            "11-Nov-19  05:46 PM             8,985 2017.png\n",
            "11-Nov-19  05:46 PM             8,886 2018.png\n",
            "11-Nov-19  11:29 PM        21,470,812 Applied Modeling Day One - Yelp Dataset - Riley Jones.ipynb\n",
            "12-Nov-19  06:30 PM            11,659 Applied Modeling Day Two - Yelp Dataset - Riley Jones.ipynb\n",
            "10-Nov-19  05:39 PM       138,279,749 business.json\n",
            "11-Nov-19  05:37 PM            10,890 newplot.png\n",
            "11-Nov-19  05:53 PM           300,791 out.gif\n",
            "11-Nov-19  05:54 PM           300,791 out1.gif\n",
            "11-Nov-19  05:56 PM           282,061 out2.gif\n",
            "11-Nov-19  05:58 PM           282,061 out3.gif\n",
            "11-Nov-19  06:00 PM               789 out4.gif\n",
            "11-Nov-19  06:00 PM           282,061 out5.gif\n",
            "10-Nov-19  03:18 PM     5,347,475,638 review.json\n",
            "11-Nov-19  02:41 PM                72 Untitled1.ipynb\n",
            "10-Nov-19  05:51 PM     2,485,747,393 user.json\n",
            "11-Nov-19  06:21 PM           282,061 yelp_stars.gif\n",
            "11-Nov-19  11:29 PM            58,791 yelp_users.ipynb\n",
            "08-Nov-19  07:32 PM        36,507,854 yelp30kuser.csv\n",
            "11-Nov-19  06:01 PM           282,061 yelpstars.gif\n",
            "11-Nov-19  06:02 PM           282,061 yelpstars2.gif\n",
            "11-Nov-19  06:03 PM           282,061 yelpstars3.gif\n",
            "              34 File(s)  8,032,274,191 bytes\n",
            "               3 Dir(s)  149,594,845,184 bytes free\n"
          ],
          "name": "stdout"
        }
      ]
    },
    {
      "cell_type": "code",
      "metadata": {
        "scrolled": true,
        "id": "PkiX7dFhs0oQ",
        "colab_type": "code",
        "colab": {}
      },
      "source": [
        "import pandas as pd\n",
        "df = pd.read_json('review.json', lines=True)\n",
        "\n"
      ],
      "execution_count": 0,
      "outputs": []
    },
    {
      "cell_type": "code",
      "metadata": {
        "id": "VHUkfdO3s0oV",
        "colab_type": "code",
        "colab": {}
      },
      "source": [
        "df1 = pd.read_json('business.json', lines=True)"
      ],
      "execution_count": 0,
      "outputs": []
    },
    {
      "cell_type": "code",
      "metadata": {
        "id": "sMNQtJwZs0oa",
        "colab_type": "code",
        "colab": {}
      },
      "source": [
        "df2 = pd.read_json('user.json', lines=True)"
      ],
      "execution_count": 0,
      "outputs": []
    },
    {
      "cell_type": "code",
      "metadata": {
        "id": "CuF_mNKis0oe",
        "colab_type": "code",
        "colab": {},
        "outputId": "5682c7e3-167c-4821-922b-04943c2d6bf2"
      },
      "source": [
        "df.shape, df1.shape, df2.shape"
      ],
      "execution_count": 0,
      "outputs": [
        {
          "output_type": "execute_result",
          "data": {
            "text/plain": [
              "((6685900, 9), (192609, 14), (1637138, 22))"
            ]
          },
          "metadata": {
            "tags": []
          },
          "execution_count": 9
        }
      ]
    },
    {
      "cell_type": "code",
      "metadata": {
        "scrolled": false,
        "id": "-OX8WQN1s0oi",
        "colab_type": "code",
        "colab": {},
        "outputId": "76ebf988-6bb6-4259-806c-7ce8a9acffe0"
      },
      "source": [
        "df2.head()"
      ],
      "execution_count": 0,
      "outputs": [
        {
          "output_type": "execute_result",
          "data": {
            "text/html": [
              "<div>\n",
              "<style scoped>\n",
              "    .dataframe tbody tr th:only-of-type {\n",
              "        vertical-align: middle;\n",
              "    }\n",
              "\n",
              "    .dataframe tbody tr th {\n",
              "        vertical-align: top;\n",
              "    }\n",
              "\n",
              "    .dataframe thead th {\n",
              "        text-align: right;\n",
              "    }\n",
              "</style>\n",
              "<table border=\"1\" class=\"dataframe\">\n",
              "  <thead>\n",
              "    <tr style=\"text-align: right;\">\n",
              "      <th></th>\n",
              "      <th>user_id</th>\n",
              "      <th>name</th>\n",
              "      <th>review_count</th>\n",
              "      <th>yelping_since</th>\n",
              "      <th>useful</th>\n",
              "      <th>funny</th>\n",
              "      <th>cool</th>\n",
              "      <th>elite</th>\n",
              "      <th>friends</th>\n",
              "      <th>fans</th>\n",
              "      <th>...</th>\n",
              "      <th>compliment_more</th>\n",
              "      <th>compliment_profile</th>\n",
              "      <th>compliment_cute</th>\n",
              "      <th>compliment_list</th>\n",
              "      <th>compliment_note</th>\n",
              "      <th>compliment_plain</th>\n",
              "      <th>compliment_cool</th>\n",
              "      <th>compliment_funny</th>\n",
              "      <th>compliment_writer</th>\n",
              "      <th>compliment_photos</th>\n",
              "    </tr>\n",
              "  </thead>\n",
              "  <tbody>\n",
              "    <tr>\n",
              "      <th>0</th>\n",
              "      <td>l6BmjZMeQD3rDxWUbiAiow</td>\n",
              "      <td>Rashmi</td>\n",
              "      <td>95</td>\n",
              "      <td>2013-10-08 23:11:33</td>\n",
              "      <td>84</td>\n",
              "      <td>17</td>\n",
              "      <td>25</td>\n",
              "      <td>2015,2016,2017</td>\n",
              "      <td>c78V-rj8NQcQjOI8KP3UEA, alRMgPcngYSCJ5naFRBz5g...</td>\n",
              "      <td>5</td>\n",
              "      <td>...</td>\n",
              "      <td>0</td>\n",
              "      <td>0</td>\n",
              "      <td>0</td>\n",
              "      <td>0</td>\n",
              "      <td>1</td>\n",
              "      <td>1</td>\n",
              "      <td>1</td>\n",
              "      <td>1</td>\n",
              "      <td>2</td>\n",
              "      <td>0</td>\n",
              "    </tr>\n",
              "    <tr>\n",
              "      <th>1</th>\n",
              "      <td>4XChL029mKr5hydo79Ljxg</td>\n",
              "      <td>Jenna</td>\n",
              "      <td>33</td>\n",
              "      <td>2013-02-21 22:29:06</td>\n",
              "      <td>48</td>\n",
              "      <td>22</td>\n",
              "      <td>16</td>\n",
              "      <td></td>\n",
              "      <td>kEBTgDvFX754S68FllfCaA, aB2DynOxNOJK9st2ZeGTPg...</td>\n",
              "      <td>4</td>\n",
              "      <td>...</td>\n",
              "      <td>0</td>\n",
              "      <td>0</td>\n",
              "      <td>0</td>\n",
              "      <td>0</td>\n",
              "      <td>0</td>\n",
              "      <td>0</td>\n",
              "      <td>1</td>\n",
              "      <td>1</td>\n",
              "      <td>0</td>\n",
              "      <td>0</td>\n",
              "    </tr>\n",
              "    <tr>\n",
              "      <th>2</th>\n",
              "      <td>bc8C_eETBWL0olvFSJJd0w</td>\n",
              "      <td>David</td>\n",
              "      <td>16</td>\n",
              "      <td>2013-10-04 00:16:10</td>\n",
              "      <td>28</td>\n",
              "      <td>8</td>\n",
              "      <td>10</td>\n",
              "      <td></td>\n",
              "      <td>4N-HU_T32hLENLntsNKNBg, pSY2vwWLgWfGVAAiKQzMng...</td>\n",
              "      <td>0</td>\n",
              "      <td>...</td>\n",
              "      <td>0</td>\n",
              "      <td>0</td>\n",
              "      <td>0</td>\n",
              "      <td>0</td>\n",
              "      <td>1</td>\n",
              "      <td>0</td>\n",
              "      <td>0</td>\n",
              "      <td>0</td>\n",
              "      <td>0</td>\n",
              "      <td>0</td>\n",
              "    </tr>\n",
              "    <tr>\n",
              "      <th>3</th>\n",
              "      <td>dD0gZpBctWGdWo9WlGuhlA</td>\n",
              "      <td>Angela</td>\n",
              "      <td>17</td>\n",
              "      <td>2014-05-22 15:57:30</td>\n",
              "      <td>30</td>\n",
              "      <td>4</td>\n",
              "      <td>14</td>\n",
              "      <td></td>\n",
              "      <td>RZ6wS38wnlXyj-OOdTzBxA, l5jxZh1KsgI8rMunm-GN6A...</td>\n",
              "      <td>5</td>\n",
              "      <td>...</td>\n",
              "      <td>0</td>\n",
              "      <td>0</td>\n",
              "      <td>0</td>\n",
              "      <td>0</td>\n",
              "      <td>0</td>\n",
              "      <td>2</td>\n",
              "      <td>0</td>\n",
              "      <td>0</td>\n",
              "      <td>1</td>\n",
              "      <td>0</td>\n",
              "    </tr>\n",
              "    <tr>\n",
              "      <th>4</th>\n",
              "      <td>MM4RJAeH6yuaN8oZDSt0RA</td>\n",
              "      <td>Nancy</td>\n",
              "      <td>361</td>\n",
              "      <td>2013-10-23 07:02:50</td>\n",
              "      <td>1114</td>\n",
              "      <td>279</td>\n",
              "      <td>665</td>\n",
              "      <td>2015,2016,2017,2018</td>\n",
              "      <td>mbwrZ-RS76V1HoJ0bF_Geg, g64lOV39xSLRZO0aQQ6DeQ...</td>\n",
              "      <td>39</td>\n",
              "      <td>...</td>\n",
              "      <td>1</td>\n",
              "      <td>0</td>\n",
              "      <td>0</td>\n",
              "      <td>1</td>\n",
              "      <td>16</td>\n",
              "      <td>57</td>\n",
              "      <td>80</td>\n",
              "      <td>80</td>\n",
              "      <td>25</td>\n",
              "      <td>5</td>\n",
              "    </tr>\n",
              "  </tbody>\n",
              "</table>\n",
              "<p>5 rows × 22 columns</p>\n",
              "</div>"
            ],
            "text/plain": [
              "                  user_id    name  review_count        yelping_since  useful  \\\n",
              "0  l6BmjZMeQD3rDxWUbiAiow  Rashmi            95  2013-10-08 23:11:33      84   \n",
              "1  4XChL029mKr5hydo79Ljxg   Jenna            33  2013-02-21 22:29:06      48   \n",
              "2  bc8C_eETBWL0olvFSJJd0w   David            16  2013-10-04 00:16:10      28   \n",
              "3  dD0gZpBctWGdWo9WlGuhlA  Angela            17  2014-05-22 15:57:30      30   \n",
              "4  MM4RJAeH6yuaN8oZDSt0RA   Nancy           361  2013-10-23 07:02:50    1114   \n",
              "\n",
              "   funny  cool                elite  \\\n",
              "0     17    25       2015,2016,2017   \n",
              "1     22    16                        \n",
              "2      8    10                        \n",
              "3      4    14                        \n",
              "4    279   665  2015,2016,2017,2018   \n",
              "\n",
              "                                             friends  fans  ...  \\\n",
              "0  c78V-rj8NQcQjOI8KP3UEA, alRMgPcngYSCJ5naFRBz5g...     5  ...   \n",
              "1  kEBTgDvFX754S68FllfCaA, aB2DynOxNOJK9st2ZeGTPg...     4  ...   \n",
              "2  4N-HU_T32hLENLntsNKNBg, pSY2vwWLgWfGVAAiKQzMng...     0  ...   \n",
              "3  RZ6wS38wnlXyj-OOdTzBxA, l5jxZh1KsgI8rMunm-GN6A...     5  ...   \n",
              "4  mbwrZ-RS76V1HoJ0bF_Geg, g64lOV39xSLRZO0aQQ6DeQ...    39  ...   \n",
              "\n",
              "   compliment_more  compliment_profile  compliment_cute  compliment_list  \\\n",
              "0                0                   0                0                0   \n",
              "1                0                   0                0                0   \n",
              "2                0                   0                0                0   \n",
              "3                0                   0                0                0   \n",
              "4                1                   0                0                1   \n",
              "\n",
              "   compliment_note  compliment_plain  compliment_cool  compliment_funny  \\\n",
              "0                1                 1                1                 1   \n",
              "1                0                 0                1                 1   \n",
              "2                1                 0                0                 0   \n",
              "3                0                 2                0                 0   \n",
              "4               16                57               80                80   \n",
              "\n",
              "   compliment_writer  compliment_photos  \n",
              "0                  2                  0  \n",
              "1                  0                  0  \n",
              "2                  0                  0  \n",
              "3                  1                  0  \n",
              "4                 25                  5  \n",
              "\n",
              "[5 rows x 22 columns]"
            ]
          },
          "metadata": {
            "tags": []
          },
          "execution_count": 13
        }
      ]
    },
    {
      "cell_type": "code",
      "metadata": {
        "id": "vx9XWOvds0on",
        "colab_type": "code",
        "colab": {},
        "outputId": "ab8738f4-17a8-420f-9284-c1f1cfefde8f"
      },
      "source": [
        "df['raters_average'] = df2['average_stars'].where(df['user_id']==df2['user_id'])"
      ],
      "execution_count": 0,
      "outputs": [
        {
          "output_type": "error",
          "ename": "ValueError",
          "evalue": "Can only compare identically-labeled Series objects",
          "traceback": [
            "\u001b[1;31m---------------------------------------------------------------------------\u001b[0m",
            "\u001b[1;31mValueError\u001b[0m                                Traceback (most recent call last)",
            "\u001b[1;32m<ipython-input-14-2fee53318ca6>\u001b[0m in \u001b[0;36m<module>\u001b[1;34m\u001b[0m\n\u001b[1;32m----> 1\u001b[1;33m \u001b[0mdf\u001b[0m\u001b[1;33m[\u001b[0m\u001b[1;34m'raters_average'\u001b[0m\u001b[1;33m]\u001b[0m \u001b[1;33m=\u001b[0m \u001b[0mdf2\u001b[0m\u001b[1;33m[\u001b[0m\u001b[1;34m'average_stars'\u001b[0m\u001b[1;33m]\u001b[0m\u001b[1;33m.\u001b[0m\u001b[0mwhere\u001b[0m\u001b[1;33m(\u001b[0m\u001b[0mdf\u001b[0m\u001b[1;33m[\u001b[0m\u001b[1;34m'user_id'\u001b[0m\u001b[1;33m]\u001b[0m\u001b[1;33m==\u001b[0m\u001b[0mdf2\u001b[0m\u001b[1;33m[\u001b[0m\u001b[1;34m'user_id'\u001b[0m\u001b[1;33m]\u001b[0m\u001b[1;33m)\u001b[0m\u001b[1;33m\u001b[0m\u001b[1;33m\u001b[0m\u001b[0m\n\u001b[0m",
            "\u001b[1;32m~\\Anaconda3\\envs\\unit2\\lib\\site-packages\\pandas\\core\\ops\\__init__.py\u001b[0m in \u001b[0;36mwrapper\u001b[1;34m(self, other, axis)\u001b[0m\n\u001b[0;32m   1140\u001b[0m \u001b[1;33m\u001b[0m\u001b[0m\n\u001b[0;32m   1141\u001b[0m         \u001b[1;32melif\u001b[0m \u001b[0misinstance\u001b[0m\u001b[1;33m(\u001b[0m\u001b[0mother\u001b[0m\u001b[1;33m,\u001b[0m \u001b[0mABCSeries\u001b[0m\u001b[1;33m)\u001b[0m \u001b[1;32mand\u001b[0m \u001b[1;32mnot\u001b[0m \u001b[0mself\u001b[0m\u001b[1;33m.\u001b[0m\u001b[0m_indexed_same\u001b[0m\u001b[1;33m(\u001b[0m\u001b[0mother\u001b[0m\u001b[1;33m)\u001b[0m\u001b[1;33m:\u001b[0m\u001b[1;33m\u001b[0m\u001b[1;33m\u001b[0m\u001b[0m\n\u001b[1;32m-> 1142\u001b[1;33m             \u001b[1;32mraise\u001b[0m \u001b[0mValueError\u001b[0m\u001b[1;33m(\u001b[0m\u001b[1;34m\"Can only compare identically-labeled \"\u001b[0m \u001b[1;34m\"Series objects\"\u001b[0m\u001b[1;33m)\u001b[0m\u001b[1;33m\u001b[0m\u001b[1;33m\u001b[0m\u001b[0m\n\u001b[0m\u001b[0;32m   1143\u001b[0m \u001b[1;33m\u001b[0m\u001b[0m\n\u001b[0;32m   1144\u001b[0m         \u001b[1;32melif\u001b[0m \u001b[0mis_categorical_dtype\u001b[0m\u001b[1;33m(\u001b[0m\u001b[0mself\u001b[0m\u001b[1;33m)\u001b[0m\u001b[1;33m:\u001b[0m\u001b[1;33m\u001b[0m\u001b[1;33m\u001b[0m\u001b[0m\n",
            "\u001b[1;31mValueError\u001b[0m: Can only compare identically-labeled Series objects"
          ]
        }
      ]
    },
    {
      "cell_type": "code",
      "metadata": {
        "id": "VbqwmilMs0ou",
        "colab_type": "code",
        "colab": {},
        "outputId": "2bd03ff4-b2c0-4543-a734-a22fcf25c490"
      },
      "source": [
        "df.head()"
      ],
      "execution_count": 0,
      "outputs": [
        {
          "output_type": "execute_result",
          "data": {
            "text/html": [
              "<div>\n",
              "<style scoped>\n",
              "    .dataframe tbody tr th:only-of-type {\n",
              "        vertical-align: middle;\n",
              "    }\n",
              "\n",
              "    .dataframe tbody tr th {\n",
              "        vertical-align: top;\n",
              "    }\n",
              "\n",
              "    .dataframe thead th {\n",
              "        text-align: right;\n",
              "    }\n",
              "</style>\n",
              "<table border=\"1\" class=\"dataframe\">\n",
              "  <thead>\n",
              "    <tr style=\"text-align: right;\">\n",
              "      <th></th>\n",
              "      <th>review_id</th>\n",
              "      <th>user_id</th>\n",
              "      <th>business_id</th>\n",
              "      <th>stars</th>\n",
              "      <th>useful</th>\n",
              "      <th>funny</th>\n",
              "      <th>cool</th>\n",
              "      <th>text</th>\n",
              "      <th>date</th>\n",
              "    </tr>\n",
              "  </thead>\n",
              "  <tbody>\n",
              "    <tr>\n",
              "      <th>0</th>\n",
              "      <td>Q1sbwvVQXV2734tPgoKj4Q</td>\n",
              "      <td>hG7b0MtEbXx5QzbzE6C_VA</td>\n",
              "      <td>ujmEBvifdJM6h6RLv4wQIg</td>\n",
              "      <td>1</td>\n",
              "      <td>6</td>\n",
              "      <td>1</td>\n",
              "      <td>0</td>\n",
              "      <td>Total bill for this horrible service? Over $8G...</td>\n",
              "      <td>2013-05-07 04:34:36</td>\n",
              "    </tr>\n",
              "    <tr>\n",
              "      <th>1</th>\n",
              "      <td>GJXCdrto3ASJOqKeVWPi6Q</td>\n",
              "      <td>yXQM5uF2jS6es16SJzNHfg</td>\n",
              "      <td>NZnhc2sEQy3RmzKTZnqtwQ</td>\n",
              "      <td>5</td>\n",
              "      <td>0</td>\n",
              "      <td>0</td>\n",
              "      <td>0</td>\n",
              "      <td>I *adore* Travis at the Hard Rock's new Kelly ...</td>\n",
              "      <td>2017-01-14 21:30:33</td>\n",
              "    </tr>\n",
              "    <tr>\n",
              "      <th>2</th>\n",
              "      <td>2TzJjDVDEuAW6MR5Vuc1ug</td>\n",
              "      <td>n6-Gk65cPZL6Uz8qRm3NYw</td>\n",
              "      <td>WTqjgwHlXbSFevF32_DJVw</td>\n",
              "      <td>5</td>\n",
              "      <td>3</td>\n",
              "      <td>0</td>\n",
              "      <td>0</td>\n",
              "      <td>I have to say that this office really has it t...</td>\n",
              "      <td>2016-11-09 20:09:03</td>\n",
              "    </tr>\n",
              "    <tr>\n",
              "      <th>3</th>\n",
              "      <td>yi0R0Ugj_xUx_Nek0-_Qig</td>\n",
              "      <td>dacAIZ6fTM6mqwW5uxkskg</td>\n",
              "      <td>ikCg8xy5JIg_NGPx-MSIDA</td>\n",
              "      <td>5</td>\n",
              "      <td>0</td>\n",
              "      <td>0</td>\n",
              "      <td>0</td>\n",
              "      <td>Went in for a lunch. Steak sandwich was delici...</td>\n",
              "      <td>2018-01-09 20:56:38</td>\n",
              "    </tr>\n",
              "    <tr>\n",
              "      <th>4</th>\n",
              "      <td>11a8sVPMUFtaC7_ABRkmtw</td>\n",
              "      <td>ssoyf2_x0EQMed6fgHeMyQ</td>\n",
              "      <td>b1b1eb3uo-w561D0ZfCEiQ</td>\n",
              "      <td>1</td>\n",
              "      <td>7</td>\n",
              "      <td>0</td>\n",
              "      <td>0</td>\n",
              "      <td>Today was my second out of three sessions I ha...</td>\n",
              "      <td>2018-01-30 23:07:38</td>\n",
              "    </tr>\n",
              "  </tbody>\n",
              "</table>\n",
              "</div>"
            ],
            "text/plain": [
              "                review_id                 user_id             business_id  \\\n",
              "0  Q1sbwvVQXV2734tPgoKj4Q  hG7b0MtEbXx5QzbzE6C_VA  ujmEBvifdJM6h6RLv4wQIg   \n",
              "1  GJXCdrto3ASJOqKeVWPi6Q  yXQM5uF2jS6es16SJzNHfg  NZnhc2sEQy3RmzKTZnqtwQ   \n",
              "2  2TzJjDVDEuAW6MR5Vuc1ug  n6-Gk65cPZL6Uz8qRm3NYw  WTqjgwHlXbSFevF32_DJVw   \n",
              "3  yi0R0Ugj_xUx_Nek0-_Qig  dacAIZ6fTM6mqwW5uxkskg  ikCg8xy5JIg_NGPx-MSIDA   \n",
              "4  11a8sVPMUFtaC7_ABRkmtw  ssoyf2_x0EQMed6fgHeMyQ  b1b1eb3uo-w561D0ZfCEiQ   \n",
              "\n",
              "   stars  useful  funny  cool  \\\n",
              "0      1       6      1     0   \n",
              "1      5       0      0     0   \n",
              "2      5       3      0     0   \n",
              "3      5       0      0     0   \n",
              "4      1       7      0     0   \n",
              "\n",
              "                                                text                date  \n",
              "0  Total bill for this horrible service? Over $8G... 2013-05-07 04:34:36  \n",
              "1  I *adore* Travis at the Hard Rock's new Kelly ... 2017-01-14 21:30:33  \n",
              "2  I have to say that this office really has it t... 2016-11-09 20:09:03  \n",
              "3  Went in for a lunch. Steak sandwich was delici... 2018-01-09 20:56:38  \n",
              "4  Today was my second out of three sessions I ha... 2018-01-30 23:07:38  "
            ]
          },
          "metadata": {
            "tags": []
          },
          "execution_count": 7
        }
      ]
    },
    {
      "cell_type": "code",
      "metadata": {
        "id": "HyehVTADs0oy",
        "colab_type": "code",
        "colab": {}
      },
      "source": [
        "# remind ourselves what we are trying to predict \n",
        "y = df['average_stars']\n",
        "import seaborn as sns \n",
        "sns.distplot(y);"
      ],
      "execution_count": 0,
      "outputs": []
    },
    {
      "cell_type": "code",
      "metadata": {
        "id": "M0hXFg0ds0o4",
        "colab_type": "code",
        "colab": {}
      },
      "source": [
        "def engineer(X):\n",
        "    \"\"\"A function to engineer the training, validation and test datasets in the same way\"\"\"\n",
        "    # Making a copy as not to modify the original dataset \n",
        "    X = X.copy()\n",
        "    \n",
        "    # Format this column into a datetime type to extract year, month, and day \n",
        "    X['yelping_since'] = pd.to_datetime(X['yelping_since'])\n",
        "    X['user_created_year'] = X['yelping_since'].dt.year\n",
        "    X['user_created_month'] = X['yelping_since'].dt.month\n",
        "    X['user_created_day']= X['yelping_since'].dt.day \n",
        "    X = X.drop(columns='yelping_since') # drop original \n",
        "    \n",
        "    # Convert this column from a float into an integer value\n",
        "    # Since floats cannot be used as targets in a model \n",
        "    X[\"target_star\"] = X['average_stars'].astype(int)\n",
        "    \n",
        "    # X['review_count_bin'] = pd.qcut(X['review_count'], q=10, duplicates='drop')\n",
        "    \n",
        "    # There's no spaces in the column names but this code might be useful anyway                                \n",
        "    X.columns = [col.replace(' ', '_') for col in X]\n",
        "    \n",
        "    return X"
      ],
      "execution_count": 0,
      "outputs": []
    },
    {
      "cell_type": "code",
      "metadata": {
        "id": "R6nsvcOcs0o8",
        "colab_type": "code",
        "colab": {},
        "outputId": "7dec4bf7-9442-4088-bad6-34a92e488271"
      },
      "source": [
        "# Engineer the data to work with plots \n",
        "import plotly.express as px\n",
        "df_engineered = engineer(df)\n",
        "df_engineered.dtypes"
      ],
      "execution_count": 0,
      "outputs": [
        {
          "output_type": "execute_result",
          "data": {
            "text/plain": [
              "Unnamed:_0              int64\n",
              "user_id                object\n",
              "name                   object\n",
              "review_count            int64\n",
              "useful                  int64\n",
              "funny                   int64\n",
              "cool                    int64\n",
              "elite                  object\n",
              "friends                object\n",
              "fans                    int64\n",
              "average_stars         float64\n",
              "compliment_hot          int64\n",
              "compliment_more         int64\n",
              "compliment_profile      int64\n",
              "compliment_cute         int64\n",
              "compliment_list         int64\n",
              "compliment_note         int64\n",
              "compliment_plain        int64\n",
              "compliment_cool         int64\n",
              "compliment_funny        int64\n",
              "compliment_writer       int64\n",
              "compliment_photos       int64\n",
              "user_created_year       int64\n",
              "user_created_month      int64\n",
              "user_created_day        int64\n",
              "target_star             int32\n",
              "dtype: object"
            ]
          },
          "metadata": {
            "tags": []
          },
          "execution_count": 29
        }
      ]
    },
    {
      "cell_type": "code",
      "metadata": {
        "id": "HerMzD8As0pA",
        "colab_type": "code",
        "colab": {},
        "outputId": "2b65065f-1ede-412b-c0f8-cb1724cce120"
      },
      "source": [
        "# Split the dataframe into training and validation sets \n",
        "from sklearn.model_selection import train_test_split\n",
        "training, validation = train_test_split(df, test_size =0.1, shuffle=True, random_state=42)\n",
        "training.shape, validation.shape"
      ],
      "execution_count": 0,
      "outputs": [
        {
          "output_type": "execute_result",
          "data": {
            "text/plain": [
              "((27000, 23), (3000, 23))"
            ]
          },
          "metadata": {
            "tags": []
          },
          "execution_count": 3
        }
      ]
    },
    {
      "cell_type": "code",
      "metadata": {
        "id": "XlGZ4D8Vs0pD",
        "colab_type": "code",
        "colab": {}
      },
      "source": [
        "# Engineer and separate X and y \n",
        "train = engineer(training)\n",
        "val = engineer(validation)\n",
        "\n",
        "target = \"review_count\"\n",
        "\n",
        "X_train = train.drop(columns=target)\n",
        "y_train = train[target]\n",
        "\n",
        "X_val = val.drop(columns=target)\n",
        "y_val = val[target]"
      ],
      "execution_count": 0,
      "outputs": []
    },
    {
      "cell_type": "code",
      "metadata": {
        "id": "xM8ZSJeBs0pG",
        "colab_type": "code",
        "colab": {}
      },
      "source": [
        "# Prepare for Permutation importances \n",
        "from sklearn.pipeline import make_pipeline\n",
        "import category_encoders as ce\n",
        "from sklearn.impute import SimpleImputer\n",
        "\n",
        "transformers = make_pipeline(\n",
        "    ce.OrdinalEncoder(),\n",
        "    SimpleImputer(strategy='median')\n",
        ")\n",
        "\n",
        "X_train_transformed = transformers.fit_transform(X_train)\n",
        "X_val_transformed = transformers.transform(X_val)\n"
      ],
      "execution_count": 0,
      "outputs": []
    },
    {
      "cell_type": "code",
      "metadata": {
        "id": "SnfyUDQ7s0pK",
        "colab_type": "code",
        "colab": {},
        "outputId": "61602407-9781-4eaa-efc8-97c579961579"
      },
      "source": [
        "from sklearn.ensemble import RandomForestClassifier\n",
        "model = RandomForestClassifier(min_samples_leaf = 10, n_estimators=50, random_state=42, n_jobs=-1)\n",
        "\n",
        "# Fit on train, score on val\n",
        "model.fit(X_train_transformed, y_train)\n",
        "\n",
        "print('Validation Accuracy', model.score(X_val_transformed, y_val))\n",
        "print('Validation Accuracy', model.score(X_train_transformed, y_train))"
      ],
      "execution_count": 0,
      "outputs": [
        {
          "output_type": "stream",
          "text": [
            "Validation Accuracy 0.75\n",
            "Validation Accuracy 0.9535925925925925\n"
          ],
          "name": "stdout"
        }
      ]
    },
    {
      "cell_type": "code",
      "metadata": {
        "id": "PL1CHWnXs0pN",
        "colab_type": "code",
        "colab": {},
        "outputId": "5223d6dd-f3ef-45ee-ef4a-2067a67510a8"
      },
      "source": [
        "import numpy as np \n",
        "train['target_star'].value_counts(normalize=True)"
      ],
      "execution_count": 0,
      "outputs": [
        {
          "output_type": "execute_result",
          "data": {
            "text/plain": [
              "3    0.323889\n",
              "4    0.279111\n",
              "5    0.197000\n",
              "2    0.105741\n",
              "1    0.094259\n",
              "Name: target_star, dtype: float64"
            ]
          },
          "metadata": {
            "tags": []
          },
          "execution_count": 9
        }
      ]
    },
    {
      "cell_type": "code",
      "metadata": {
        "id": "js_YYfzRs0pQ",
        "colab_type": "code",
        "colab": {}
      },
      "source": [
        "first_ten = y_val[:10]"
      ],
      "execution_count": 0,
      "outputs": []
    },
    {
      "cell_type": "code",
      "metadata": {
        "id": "Ud1XkIC-s0pU",
        "colab_type": "code",
        "colab": {},
        "outputId": "d0dbffc7-be08-4a2a-9fb3-0d48a63b4092"
      },
      "source": [
        "first_ten"
      ],
      "execution_count": 0,
      "outputs": [
        {
          "output_type": "execute_result",
          "data": {
            "text/plain": [
              "2308      3\n",
              "22404    14\n",
              "23397     1\n",
              "25058     2\n",
              "2664      3\n",
              "8511      7\n",
              "5148     47\n",
              "7790      1\n",
              "11311    14\n",
              "19043    19\n",
              "Name: review_count, dtype: int64"
            ]
          },
          "metadata": {
            "tags": []
          },
          "execution_count": 29
        }
      ]
    },
    {
      "cell_type": "code",
      "metadata": {
        "id": "u6OqXpLxs0pf",
        "colab_type": "code",
        "colab": {},
        "outputId": "a5b6858e-7d5c-40c6-8b68-085d7ef8c184"
      },
      "source": [
        "model.predict(first_ten)"
      ],
      "execution_count": 0,
      "outputs": [
        {
          "output_type": "execute_result",
          "data": {
            "text/plain": [
              "array([ 3, 14,  1,  2,  3,  7, 50,  1, 15,  6], dtype=int64)"
            ]
          },
          "metadata": {
            "tags": []
          },
          "execution_count": 25
        }
      ]
    },
    {
      "cell_type": "code",
      "metadata": {
        "id": "w4uY5W2rs0ph",
        "colab_type": "code",
        "colab": {},
        "outputId": "bee3bfc5-9497-424f-9d10-25c700a8e7e1"
      },
      "source": [
        "from sklearn.linear_model import LogisticRegression\n",
        "model = LogisticRegression(solver='lbfgs', n_jobs=-1)\n",
        "\n",
        "# Fit on train, score on val\n",
        "model.fit(X_train_transformed, y_train)\n",
        "\n",
        "print('Validation Accuracy', model.score(X_val_transformed, y_val))\n",
        "print('Validation Accuracy', model.score(X_train_transformed, y_train))"
      ],
      "execution_count": 0,
      "outputs": [
        {
          "output_type": "stream",
          "text": [
            "C:\\Users\\Ryloid\\Anaconda3\\envs\\unit2\\lib\\site-packages\\sklearn\\linear_model\\logistic.py:469: FutureWarning: Default multi_class will be changed to 'auto' in 0.22. Specify the multi_class option to silence this warning.\n",
            "  \"this warning.\", FutureWarning)\n"
          ],
          "name": "stderr"
        }
      ]
    },
    {
      "cell_type": "code",
      "metadata": {
        "id": "eLs6b-wrs0pl",
        "colab_type": "code",
        "colab": {}
      },
      "source": [
        ""
      ],
      "execution_count": 0,
      "outputs": []
    }
  ]
}